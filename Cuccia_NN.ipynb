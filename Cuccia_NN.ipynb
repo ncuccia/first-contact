{
 "cells": [
  {
   "cell_type": "markdown",
   "metadata": {},
   "source": [
    "### Import Packages"
   ]
  },
  {
   "cell_type": "code",
   "execution_count": 25,
   "metadata": {
    "ExecuteTime": {
     "end_time": "2019-05-15T16:14:01.411331Z",
     "start_time": "2019-05-15T16:14:01.026219Z"
    }
   },
   "outputs": [
    {
     "name": "stdout",
     "output_type": "stream",
     "text": [
      "The autoreload extension is already loaded. To reload it, use:\n",
      "  %reload_ext autoreload\n",
      "/device:GPU:0\n"
     ]
    }
   ],
   "source": [
    "from __future__ import absolute_import, division, print_function\n",
    "%load_ext autoreload\n",
    "%autoreload 2\n",
    "\n",
    "import numpy as np\n",
    "import scipy.io\n",
    "from time import gmtime, strftime\n",
    "import random\n",
    "\n",
    "# TensorFlow and tf.keras\n",
    "import tensorflow as tf\n",
    "\n",
    "import aging as age\n",
    "\n",
    "print(tf.test.gpu_device_name())\n",
    "\n",
    "# Define directory with matlab files\n",
    "# direc = 'D:/MLdata/18-01-09d-Exp/Extract Data/'\n",
    "# direc  = 'D:/Nicholas_ML/18-01-09d-Exp/Extract Data/'\n",
    "direc = 'D:/MLdata/'\n",
    "# Define directory to save model and plots\n",
    "savedir = 'D:/MLdata/Model/' + strftime(\"%Y-%m-%d %H-%M\", gmtime()) + '/'\n",
    "\n",
    "random.seed(0)\n",
    "np.random.seed(0)"
   ]
  },
  {
   "cell_type": "markdown",
   "metadata": {},
   "source": [
    "### Import Data"
   ]
  },
  {
   "cell_type": "markdown",
   "metadata": {},
   "source": [
    "A lot of things are hidden behind the scenes in this code.  This allows for compactness within the Jupyter notebook.\n",
    "\n",
    "In order to properly import the data, there are several options which can be varied."
   ]
  },
  {
   "cell_type": "code",
   "execution_count": 4,
   "metadata": {
    "ExecuteTime": {
     "end_time": "2019-05-15T14:32:50.815033Z",
     "start_time": "2019-05-15T14:32:50.611987Z"
    }
   },
   "outputs": [
    {
     "name": "stdout",
     "output_type": "stream",
     "text": [
      "['18-01-09d-Exp']\n"
     ]
    }
   ],
   "source": [
    "# Optimized Data Extractor\n",
    "crop_size = 750\n",
    "split_size = crop_size // 1\n",
    "clip_value = 1\n",
    "image_grid_size = int(crop_size**2 / split_size**2)\n",
    "\n",
    "file_num = 0\n",
    "\n",
    "folders, files = age.seq_file_names(direc = direc, \n",
    "                                which_samples = (0,), \n",
    "                                num_exps = file_num)\n",
    "\n",
    "# skip_exp = ['ML_block1_Exp265.mat', \n",
    "#             'ML_block1_Exp272.mat',\n",
    "#            'ML_block1_Exp278.mat',\n",
    "#            'ML_block1_Exp386.mat',\n",
    "#            'ML_block1_Exp388.mat',\n",
    "#            'ML_block1_Exp392.mat']\n",
    "\n",
    "# for skip in skip_exp:\n",
    "#     files = list(filter((skip).__ne__, files))"
   ]
  },
  {
   "cell_type": "code",
   "execution_count": 14,
   "metadata": {
    "ExecuteTime": {
     "end_time": "2019-05-15T14:40:48.893322Z",
     "start_time": "2019-05-15T14:37:50.164977Z"
    },
    "scrolled": true
   },
   "outputs": [
    {
     "name": "stdout",
     "output_type": "stream",
     "text": [
      "D:/MLdata/18-01-09d-Exp/Extract Data/ML_block1_Exp207.mat\r"
     ]
    },
    {
     "name": "stderr",
     "output_type": "stream",
     "text": [
      "C:\\Users\\Nicholas\\Documents\\GitHub\\AM216Final2019\\aging\\io.py:166: UserWarning: File ML_block1_Exp207.mat skipped due to repeated shear 30.0.\n",
      "  warnings.warn(\"File {} skipped due to repeated shear {}.\".format(file, temp_shear))\n"
     ]
    },
    {
     "name": "stdout",
     "output_type": "stream",
     "text": [
      "D:/MLdata/18-01-09d-Exp/Extract Data/ML_block1_Exp212.mat\r"
     ]
    },
    {
     "name": "stderr",
     "output_type": "stream",
     "text": [
      "C:\\Users\\Nicholas\\Documents\\GitHub\\AM216Final2019\\aging\\io.py:166: UserWarning: File ML_block1_Exp212.mat skipped due to repeated shear 14.8.\n",
      "  warnings.warn(\"File {} skipped due to repeated shear {}.\".format(file, temp_shear))\n"
     ]
    },
    {
     "name": "stdout",
     "output_type": "stream",
     "text": [
      "D:/MLdata/18-01-09d-Exp/Extract Data/ML_block1_Exp213.mat\r"
     ]
    },
    {
     "name": "stderr",
     "output_type": "stream",
     "text": [
      "C:\\Users\\Nicholas\\Documents\\GitHub\\AM216Final2019\\aging\\io.py:166: UserWarning: File ML_block1_Exp213.mat skipped due to repeated shear 14.8.\n",
      "  warnings.warn(\"File {} skipped due to repeated shear {}.\".format(file, temp_shear))\n"
     ]
    },
    {
     "name": "stdout",
     "output_type": "stream",
     "text": [
      "D:/MLdata/18-01-09d-Exp/Extract Data/ML_block1_Exp229.mat\r"
     ]
    },
    {
     "name": "stderr",
     "output_type": "stream",
     "text": [
      "C:\\Users\\Nicholas\\Documents\\GitHub\\AM216Final2019\\aging\\io.py:166: UserWarning: File ML_block1_Exp229.mat skipped due to repeated shear 35.0.\n",
      "  warnings.warn(\"File {} skipped due to repeated shear {}.\".format(file, temp_shear))\n"
     ]
    },
    {
     "name": "stdout",
     "output_type": "stream",
     "text": [
      "D:/MLdata/18-01-09d-Exp/Extract Data/ML_block1_Exp230.mat\r"
     ]
    },
    {
     "name": "stderr",
     "output_type": "stream",
     "text": [
      "C:\\Users\\Nicholas\\Documents\\GitHub\\AM216Final2019\\aging\\io.py:166: UserWarning: File ML_block1_Exp230.mat skipped due to repeated shear 14.8.\n",
      "  warnings.warn(\"File {} skipped due to repeated shear {}.\".format(file, temp_shear))\n"
     ]
    },
    {
     "name": "stdout",
     "output_type": "stream",
     "text": [
      "D:/MLdata/18-01-09d-Exp/Extract Data/ML_block1_Exp232.mat\r"
     ]
    },
    {
     "name": "stderr",
     "output_type": "stream",
     "text": [
      "C:\\Users\\Nicholas\\Documents\\GitHub\\AM216Final2019\\aging\\io.py:166: UserWarning: File ML_block1_Exp232.mat skipped due to repeated shear 34.9.\n",
      "  warnings.warn(\"File {} skipped due to repeated shear {}.\".format(file, temp_shear))\n"
     ]
    },
    {
     "name": "stdout",
     "output_type": "stream",
     "text": [
      "D:/MLdata/18-01-09d-Exp/Extract Data/ML_block1_Exp234.mat\r"
     ]
    },
    {
     "name": "stderr",
     "output_type": "stream",
     "text": [
      "C:\\Users\\Nicholas\\Documents\\GitHub\\AM216Final2019\\aging\\io.py:166: UserWarning: File ML_block1_Exp234.mat skipped due to repeated shear 14.8.\n",
      "  warnings.warn(\"File {} skipped due to repeated shear {}.\".format(file, temp_shear))\n"
     ]
    },
    {
     "name": "stdout",
     "output_type": "stream",
     "text": [
      "D:/MLdata/18-01-09d-Exp/Extract Data/ML_block1_Exp241.mat\r"
     ]
    },
    {
     "name": "stderr",
     "output_type": "stream",
     "text": [
      "C:\\Users\\Nicholas\\Documents\\GitHub\\AM216Final2019\\aging\\io.py:166: UserWarning: File ML_block1_Exp241.mat skipped due to repeated shear 25.1.\n",
      "  warnings.warn(\"File {} skipped due to repeated shear {}.\".format(file, temp_shear))\n"
     ]
    },
    {
     "name": "stdout",
     "output_type": "stream",
     "text": [
      "D:/MLdata/18-01-09d-Exp/Extract Data/ML_block1_Exp243.mat\r"
     ]
    },
    {
     "name": "stderr",
     "output_type": "stream",
     "text": [
      "C:\\Users\\Nicholas\\Documents\\GitHub\\AM216Final2019\\aging\\io.py:166: UserWarning: File ML_block1_Exp243.mat skipped due to repeated shear 29.8.\n",
      "  warnings.warn(\"File {} skipped due to repeated shear {}.\".format(file, temp_shear))\n"
     ]
    },
    {
     "name": "stdout",
     "output_type": "stream",
     "text": [
      "D:/MLdata/18-01-09d-Exp/Extract Data/ML_block1_Exp248.mat\r"
     ]
    },
    {
     "name": "stderr",
     "output_type": "stream",
     "text": [
      "C:\\Users\\Nicholas\\Documents\\GitHub\\AM216Final2019\\aging\\io.py:166: UserWarning: File ML_block1_Exp248.mat skipped due to repeated shear 25.1.\n",
      "  warnings.warn(\"File {} skipped due to repeated shear {}.\".format(file, temp_shear))\n"
     ]
    },
    {
     "name": "stdout",
     "output_type": "stream",
     "text": [
      "D:/MLdata/18-01-09d-Exp/Extract Data/ML_block1_Exp250.mat\r"
     ]
    },
    {
     "name": "stderr",
     "output_type": "stream",
     "text": [
      "C:\\Users\\Nicholas\\Documents\\GitHub\\AM216Final2019\\aging\\io.py:166: UserWarning: File ML_block1_Exp250.mat skipped due to repeated shear 25.1.\n",
      "  warnings.warn(\"File {} skipped due to repeated shear {}.\".format(file, temp_shear))\n"
     ]
    },
    {
     "name": "stdout",
     "output_type": "stream",
     "text": [
      "D:/MLdata/18-01-09d-Exp/Extract Data/ML_block1_Exp273.mat\r"
     ]
    },
    {
     "name": "stderr",
     "output_type": "stream",
     "text": [
      "C:\\Users\\Nicholas\\Documents\\GitHub\\AM216Final2019\\aging\\io.py:166: UserWarning: File ML_block1_Exp273.mat skipped due to repeated shear 25.1.\n",
      "  warnings.warn(\"File {} skipped due to repeated shear {}.\".format(file, temp_shear))\n"
     ]
    },
    {
     "name": "stdout",
     "output_type": "stream",
     "text": [
      "D:/MLdata/18-01-09d-Exp/Extract Data/ML_block1_Exp276.mat\r"
     ]
    },
    {
     "name": "stderr",
     "output_type": "stream",
     "text": [
      "C:\\Users\\Nicholas\\Documents\\GitHub\\AM216Final2019\\aging\\io.py:166: UserWarning: File ML_block1_Exp276.mat skipped due to repeated shear 14.8.\n",
      "  warnings.warn(\"File {} skipped due to repeated shear {}.\".format(file, temp_shear))\n"
     ]
    },
    {
     "name": "stdout",
     "output_type": "stream",
     "text": [
      "D:/MLdata/18-01-09d-Exp/Extract Data/ML_block1_Exp281.mat\r"
     ]
    },
    {
     "name": "stderr",
     "output_type": "stream",
     "text": [
      "C:\\Users\\Nicholas\\Documents\\GitHub\\AM216Final2019\\aging\\io.py:166: UserWarning: File ML_block1_Exp281.mat skipped due to repeated shear 40.0.\n",
      "  warnings.warn(\"File {} skipped due to repeated shear {}.\".format(file, temp_shear))\n"
     ]
    },
    {
     "name": "stdout",
     "output_type": "stream",
     "text": [
      "D:/MLdata/18-01-09d-Exp/Extract Data/ML_block1_Exp285.mat\r"
     ]
    },
    {
     "name": "stderr",
     "output_type": "stream",
     "text": [
      "C:\\Users\\Nicholas\\Documents\\GitHub\\AM216Final2019\\aging\\io.py:166: UserWarning: File ML_block1_Exp285.mat skipped due to repeated shear 9.8.\n",
      "  warnings.warn(\"File {} skipped due to repeated shear {}.\".format(file, temp_shear))\n"
     ]
    },
    {
     "name": "stdout",
     "output_type": "stream",
     "text": [
      "D:/MLdata/18-01-09d-Exp/Extract Data/ML_block1_Exp293.mat\r"
     ]
    },
    {
     "name": "stderr",
     "output_type": "stream",
     "text": [
      "C:\\Users\\Nicholas\\Documents\\GitHub\\AM216Final2019\\aging\\io.py:166: UserWarning: File ML_block1_Exp293.mat skipped due to repeated shear 39.8.\n",
      "  warnings.warn(\"File {} skipped due to repeated shear {}.\".format(file, temp_shear))\n"
     ]
    },
    {
     "name": "stdout",
     "output_type": "stream",
     "text": [
      "D:/MLdata/18-01-09d-Exp/Extract Data/ML_block1_Exp294.mat\r"
     ]
    },
    {
     "name": "stderr",
     "output_type": "stream",
     "text": [
      "C:\\Users\\Nicholas\\Documents\\GitHub\\AM216Final2019\\aging\\io.py:166: UserWarning: File ML_block1_Exp294.mat skipped due to repeated shear 20.0.\n",
      "  warnings.warn(\"File {} skipped due to repeated shear {}.\".format(file, temp_shear))\n"
     ]
    },
    {
     "name": "stdout",
     "output_type": "stream",
     "text": [
      "D:/MLdata/18-01-09d-Exp/Extract Data/ML_block1_Exp296.mat\r"
     ]
    },
    {
     "name": "stderr",
     "output_type": "stream",
     "text": [
      "C:\\Users\\Nicholas\\Documents\\GitHub\\AM216Final2019\\aging\\io.py:166: UserWarning: File ML_block1_Exp296.mat skipped due to repeated shear 35.0.\n",
      "  warnings.warn(\"File {} skipped due to repeated shear {}.\".format(file, temp_shear))\n"
     ]
    },
    {
     "name": "stdout",
     "output_type": "stream",
     "text": [
      "D:/MLdata/18-01-09d-Exp/Extract Data/ML_block1_Exp298.mat\r"
     ]
    },
    {
     "name": "stderr",
     "output_type": "stream",
     "text": [
      "C:\\Users\\Nicholas\\Documents\\GitHub\\AM216Final2019\\aging\\io.py:166: UserWarning: File ML_block1_Exp298.mat skipped due to repeated shear 29.8.\n",
      "  warnings.warn(\"File {} skipped due to repeated shear {}.\".format(file, temp_shear))\n"
     ]
    },
    {
     "name": "stdout",
     "output_type": "stream",
     "text": [
      "D:/MLdata/18-01-09d-Exp/Extract Data/ML_block1_Exp303.mat\r"
     ]
    },
    {
     "name": "stderr",
     "output_type": "stream",
     "text": [
      "C:\\Users\\Nicholas\\Documents\\GitHub\\AM216Final2019\\aging\\io.py:166: UserWarning: File ML_block1_Exp303.mat skipped due to repeated shear 25.0.\n",
      "  warnings.warn(\"File {} skipped due to repeated shear {}.\".format(file, temp_shear))\n"
     ]
    },
    {
     "name": "stdout",
     "output_type": "stream",
     "text": [
      "D:/MLdata/18-01-09d-Exp/Extract Data/ML_block1_Exp308.mat\r"
     ]
    },
    {
     "name": "stderr",
     "output_type": "stream",
     "text": [
      "C:\\Users\\Nicholas\\Documents\\GitHub\\AM216Final2019\\aging\\io.py:166: UserWarning: File ML_block1_Exp308.mat skipped due to repeated shear 14.8.\n",
      "  warnings.warn(\"File {} skipped due to repeated shear {}.\".format(file, temp_shear))\n"
     ]
    },
    {
     "name": "stdout",
     "output_type": "stream",
     "text": [
      "D:/MLdata/18-01-09d-Exp/Extract Data/ML_block1_Exp310.mat\r"
     ]
    },
    {
     "name": "stderr",
     "output_type": "stream",
     "text": [
      "C:\\Users\\Nicholas\\Documents\\GitHub\\AM216Final2019\\aging\\io.py:166: UserWarning: File ML_block1_Exp310.mat skipped due to repeated shear 15.2.\n",
      "  warnings.warn(\"File {} skipped due to repeated shear {}.\".format(file, temp_shear))\n"
     ]
    },
    {
     "name": "stdout",
     "output_type": "stream",
     "text": [
      "D:/MLdata/18-01-09d-Exp/Extract Data/ML_block1_Exp311.mat\r"
     ]
    },
    {
     "name": "stderr",
     "output_type": "stream",
     "text": [
      "C:\\Users\\Nicholas\\Documents\\GitHub\\AM216Final2019\\aging\\io.py:166: UserWarning: File ML_block1_Exp311.mat skipped due to repeated shear 10.0.\n",
      "  warnings.warn(\"File {} skipped due to repeated shear {}.\".format(file, temp_shear))\n"
     ]
    },
    {
     "name": "stdout",
     "output_type": "stream",
     "text": [
      "D:/MLdata/18-01-09d-Exp/Extract Data/ML_block1_Exp314.mat\r"
     ]
    },
    {
     "name": "stderr",
     "output_type": "stream",
     "text": [
      "C:\\Users\\Nicholas\\Documents\\GitHub\\AM216Final2019\\aging\\io.py:166: UserWarning: File ML_block1_Exp314.mat skipped due to repeated shear 25.1.\n",
      "  warnings.warn(\"File {} skipped due to repeated shear {}.\".format(file, temp_shear))\n"
     ]
    },
    {
     "name": "stdout",
     "output_type": "stream",
     "text": [
      "D:/MLdata/18-01-09d-Exp/Extract Data/ML_block1_Exp317.mat\r"
     ]
    },
    {
     "name": "stderr",
     "output_type": "stream",
     "text": [
      "C:\\Users\\Nicholas\\Documents\\GitHub\\AM216Final2019\\aging\\io.py:166: UserWarning: File ML_block1_Exp317.mat skipped due to repeated shear 14.8.\n",
      "  warnings.warn(\"File {} skipped due to repeated shear {}.\".format(file, temp_shear))\n"
     ]
    },
    {
     "name": "stdout",
     "output_type": "stream",
     "text": [
      "D:/MLdata/18-01-09d-Exp/Extract Data/ML_block1_Exp322.mat\r"
     ]
    },
    {
     "name": "stderr",
     "output_type": "stream",
     "text": [
      "C:\\Users\\Nicholas\\Documents\\GitHub\\AM216Final2019\\aging\\io.py:166: UserWarning: File ML_block1_Exp322.mat skipped due to repeated shear 24.9.\n",
      "  warnings.warn(\"File {} skipped due to repeated shear {}.\".format(file, temp_shear))\n"
     ]
    },
    {
     "name": "stdout",
     "output_type": "stream",
     "text": [
      "D:/MLdata/18-01-09d-Exp/Extract Data/ML_block1_Exp325.mat\r"
     ]
    },
    {
     "name": "stderr",
     "output_type": "stream",
     "text": [
      "C:\\Users\\Nicholas\\Documents\\GitHub\\AM216Final2019\\aging\\io.py:166: UserWarning: File ML_block1_Exp325.mat skipped due to repeated shear 29.8.\n",
      "  warnings.warn(\"File {} skipped due to repeated shear {}.\".format(file, temp_shear))\n"
     ]
    },
    {
     "name": "stdout",
     "output_type": "stream",
     "text": [
      "D:/MLdata/18-01-09d-Exp/Extract Data/ML_block1_Exp326.mat\r"
     ]
    },
    {
     "name": "stderr",
     "output_type": "stream",
     "text": [
      "C:\\Users\\Nicholas\\Documents\\GitHub\\AM216Final2019\\aging\\io.py:166: UserWarning: File ML_block1_Exp326.mat skipped due to repeated shear 25.2.\n",
      "  warnings.warn(\"File {} skipped due to repeated shear {}.\".format(file, temp_shear))\n"
     ]
    },
    {
     "name": "stdout",
     "output_type": "stream",
     "text": [
      "D:/MLdata/18-01-09d-Exp/Extract Data/ML_block1_Exp327.mat\r"
     ]
    },
    {
     "name": "stderr",
     "output_type": "stream",
     "text": [
      "C:\\Users\\Nicholas\\Documents\\GitHub\\AM216Final2019\\aging\\io.py:166: UserWarning: File ML_block1_Exp327.mat skipped due to repeated shear 24.9.\n",
      "  warnings.warn(\"File {} skipped due to repeated shear {}.\".format(file, temp_shear))\n"
     ]
    },
    {
     "name": "stdout",
     "output_type": "stream",
     "text": [
      "D:/MLdata/18-01-09d-Exp/Extract Data/ML_block1_Exp328.mat\r"
     ]
    },
    {
     "name": "stderr",
     "output_type": "stream",
     "text": [
      "C:\\Users\\Nicholas\\Documents\\GitHub\\AM216Final2019\\aging\\io.py:166: UserWarning: File ML_block1_Exp328.mat skipped due to repeated shear 0.0.\n",
      "  warnings.warn(\"File {} skipped due to repeated shear {}.\".format(file, temp_shear))\n"
     ]
    },
    {
     "name": "stdout",
     "output_type": "stream",
     "text": [
      "D:/MLdata/18-01-09d-Exp/Extract Data/ML_block1_Exp336.mat\r"
     ]
    },
    {
     "name": "stderr",
     "output_type": "stream",
     "text": [
      "C:\\Users\\Nicholas\\Documents\\GitHub\\AM216Final2019\\aging\\io.py:166: UserWarning: File ML_block1_Exp336.mat skipped due to repeated shear 34.8.\n",
      "  warnings.warn(\"File {} skipped due to repeated shear {}.\".format(file, temp_shear))\n"
     ]
    },
    {
     "name": "stdout",
     "output_type": "stream",
     "text": [
      "D:/MLdata/18-01-09d-Exp/Extract Data/ML_block1_Exp337.mat\r"
     ]
    },
    {
     "name": "stderr",
     "output_type": "stream",
     "text": [
      "C:\\Users\\Nicholas\\Documents\\GitHub\\AM216Final2019\\aging\\io.py:166: UserWarning: File ML_block1_Exp337.mat skipped due to repeated shear 29.9.\n",
      "  warnings.warn(\"File {} skipped due to repeated shear {}.\".format(file, temp_shear))\n"
     ]
    },
    {
     "name": "stdout",
     "output_type": "stream",
     "text": [
      "D:/MLdata/18-01-09d-Exp/Extract Data/ML_block1_Exp338.mat\r"
     ]
    },
    {
     "name": "stderr",
     "output_type": "stream",
     "text": [
      "C:\\Users\\Nicholas\\Documents\\GitHub\\AM216Final2019\\aging\\io.py:166: UserWarning: File ML_block1_Exp338.mat skipped due to repeated shear 9.8.\n",
      "  warnings.warn(\"File {} skipped due to repeated shear {}.\".format(file, temp_shear))\n"
     ]
    },
    {
     "name": "stdout",
     "output_type": "stream",
     "text": [
      "D:/MLdata/18-01-09d-Exp/Extract Data/ML_block1_Exp339.mat\r"
     ]
    },
    {
     "name": "stderr",
     "output_type": "stream",
     "text": [
      "C:\\Users\\Nicholas\\Documents\\GitHub\\AM216Final2019\\aging\\io.py:166: UserWarning: File ML_block1_Exp339.mat skipped due to repeated shear 40.0.\n",
      "  warnings.warn(\"File {} skipped due to repeated shear {}.\".format(file, temp_shear))\n"
     ]
    },
    {
     "name": "stdout",
     "output_type": "stream",
     "text": [
      "D:/MLdata/18-01-09d-Exp/Extract Data/ML_block1_Exp343.mat\r"
     ]
    },
    {
     "name": "stderr",
     "output_type": "stream",
     "text": [
      "C:\\Users\\Nicholas\\Documents\\GitHub\\AM216Final2019\\aging\\io.py:166: UserWarning: File ML_block1_Exp343.mat skipped due to repeated shear 9.9.\n",
      "  warnings.warn(\"File {} skipped due to repeated shear {}.\".format(file, temp_shear))\n"
     ]
    },
    {
     "name": "stdout",
     "output_type": "stream",
     "text": [
      "D:/MLdata/18-01-09d-Exp/Extract Data/ML_block1_Exp344.mat\r"
     ]
    },
    {
     "name": "stderr",
     "output_type": "stream",
     "text": [
      "C:\\Users\\Nicholas\\Documents\\GitHub\\AM216Final2019\\aging\\io.py:166: UserWarning: File ML_block1_Exp344.mat skipped due to repeated shear 19.9.\n",
      "  warnings.warn(\"File {} skipped due to repeated shear {}.\".format(file, temp_shear))\n"
     ]
    },
    {
     "name": "stdout",
     "output_type": "stream",
     "text": [
      "D:/MLdata/18-01-09d-Exp/Extract Data/ML_block1_Exp346.mat\r"
     ]
    },
    {
     "name": "stderr",
     "output_type": "stream",
     "text": [
      "C:\\Users\\Nicholas\\Documents\\GitHub\\AM216Final2019\\aging\\io.py:166: UserWarning: File ML_block1_Exp346.mat skipped due to repeated shear 9.8.\n",
      "  warnings.warn(\"File {} skipped due to repeated shear {}.\".format(file, temp_shear))\n"
     ]
    },
    {
     "name": "stdout",
     "output_type": "stream",
     "text": [
      "D:/MLdata/18-01-09d-Exp/Extract Data/ML_block1_Exp347.mat\r"
     ]
    },
    {
     "name": "stderr",
     "output_type": "stream",
     "text": [
      "C:\\Users\\Nicholas\\Documents\\GitHub\\AM216Final2019\\aging\\io.py:166: UserWarning: File ML_block1_Exp347.mat skipped due to repeated shear 39.8.\n",
      "  warnings.warn(\"File {} skipped due to repeated shear {}.\".format(file, temp_shear))\n"
     ]
    },
    {
     "name": "stdout",
     "output_type": "stream",
     "text": [
      "D:/MLdata/18-01-09d-Exp/Extract Data/ML_block1_Exp349.mat\r"
     ]
    },
    {
     "name": "stderr",
     "output_type": "stream",
     "text": [
      "C:\\Users\\Nicholas\\Documents\\GitHub\\AM216Final2019\\aging\\io.py:166: UserWarning: File ML_block1_Exp349.mat skipped due to repeated shear 14.8.\n",
      "  warnings.warn(\"File {} skipped due to repeated shear {}.\".format(file, temp_shear))\n"
     ]
    },
    {
     "name": "stdout",
     "output_type": "stream",
     "text": [
      "D:/MLdata/18-01-09d-Exp/Extract Data/ML_block1_Exp350.mat\r"
     ]
    },
    {
     "name": "stderr",
     "output_type": "stream",
     "text": [
      "C:\\Users\\Nicholas\\Documents\\GitHub\\AM216Final2019\\aging\\io.py:166: UserWarning: File ML_block1_Exp350.mat skipped due to repeated shear 40.0.\n",
      "  warnings.warn(\"File {} skipped due to repeated shear {}.\".format(file, temp_shear))\n"
     ]
    },
    {
     "name": "stdout",
     "output_type": "stream",
     "text": [
      "D:/MLdata/18-01-09d-Exp/Extract Data/ML_block1_Exp351.mat\r"
     ]
    },
    {
     "name": "stderr",
     "output_type": "stream",
     "text": [
      "C:\\Users\\Nicholas\\Documents\\GitHub\\AM216Final2019\\aging\\io.py:166: UserWarning: File ML_block1_Exp351.mat skipped due to repeated shear 35.1.\n",
      "  warnings.warn(\"File {} skipped due to repeated shear {}.\".format(file, temp_shear))\n"
     ]
    },
    {
     "name": "stdout",
     "output_type": "stream",
     "text": [
      "D:/MLdata/18-01-09d-Exp/Extract Data/ML_block1_Exp352.mat\r"
     ]
    },
    {
     "name": "stderr",
     "output_type": "stream",
     "text": [
      "C:\\Users\\Nicholas\\Documents\\GitHub\\AM216Final2019\\aging\\io.py:166: UserWarning: File ML_block1_Exp352.mat skipped due to repeated shear 29.9.\n",
      "  warnings.warn(\"File {} skipped due to repeated shear {}.\".format(file, temp_shear))\n"
     ]
    },
    {
     "name": "stdout",
     "output_type": "stream",
     "text": [
      "D:/MLdata/18-01-09d-Exp/Extract Data/ML_block1_Exp354.mat\r"
     ]
    },
    {
     "name": "stderr",
     "output_type": "stream",
     "text": [
      "C:\\Users\\Nicholas\\Documents\\GitHub\\AM216Final2019\\aging\\io.py:166: UserWarning: File ML_block1_Exp354.mat skipped due to repeated shear 9.8.\n",
      "  warnings.warn(\"File {} skipped due to repeated shear {}.\".format(file, temp_shear))\n"
     ]
    },
    {
     "name": "stdout",
     "output_type": "stream",
     "text": [
      "D:/MLdata/18-01-09d-Exp/Extract Data/ML_block1_Exp355.mat\r"
     ]
    },
    {
     "name": "stderr",
     "output_type": "stream",
     "text": [
      "C:\\Users\\Nicholas\\Documents\\GitHub\\AM216Final2019\\aging\\io.py:166: UserWarning: File ML_block1_Exp355.mat skipped due to repeated shear 14.8.\n",
      "  warnings.warn(\"File {} skipped due to repeated shear {}.\".format(file, temp_shear))\n"
     ]
    },
    {
     "name": "stdout",
     "output_type": "stream",
     "text": [
      "D:/MLdata/18-01-09d-Exp/Extract Data/ML_block1_Exp358.mat\r"
     ]
    },
    {
     "name": "stderr",
     "output_type": "stream",
     "text": [
      "C:\\Users\\Nicholas\\Documents\\GitHub\\AM216Final2019\\aging\\io.py:166: UserWarning: File ML_block1_Exp358.mat skipped due to repeated shear 30.0.\n",
      "  warnings.warn(\"File {} skipped due to repeated shear {}.\".format(file, temp_shear))\n",
      "C:\\Users\\Nicholas\\Documents\\GitHub\\AM216Final2019\\aging\\io.py:166: UserWarning: File ML_block1_Exp359.mat skipped due to repeated shear 19.8.\n",
      "  warnings.warn(\"File {} skipped due to repeated shear {}.\".format(file, temp_shear))\n"
     ]
    },
    {
     "name": "stdout",
     "output_type": "stream",
     "text": [
      "D:/MLdata/18-01-09d-Exp/Extract Data/ML_block1_Exp365.mat\r"
     ]
    },
    {
     "name": "stderr",
     "output_type": "stream",
     "text": [
      "C:\\Users\\Nicholas\\Documents\\GitHub\\AM216Final2019\\aging\\io.py:166: UserWarning: File ML_block1_Exp365.mat skipped due to repeated shear 9.8.\n",
      "  warnings.warn(\"File {} skipped due to repeated shear {}.\".format(file, temp_shear))\n",
      "C:\\Users\\Nicholas\\Documents\\GitHub\\AM216Final2019\\aging\\io.py:166: UserWarning: File ML_block1_Exp366.mat skipped due to repeated shear 25.2.\n",
      "  warnings.warn(\"File {} skipped due to repeated shear {}.\".format(file, temp_shear))\n"
     ]
    },
    {
     "name": "stdout",
     "output_type": "stream",
     "text": [
      "D:/MLdata/18-01-09d-Exp/Extract Data/ML_block1_Exp366.mat\r"
     ]
    },
    {
     "name": "stderr",
     "output_type": "stream",
     "text": [
      "C:\\Users\\Nicholas\\Documents\\GitHub\\AM216Final2019\\aging\\io.py:166: UserWarning: File ML_block1_Exp367.mat skipped due to repeated shear 34.8.\n",
      "  warnings.warn(\"File {} skipped due to repeated shear {}.\".format(file, temp_shear))\n"
     ]
    },
    {
     "name": "stdout",
     "output_type": "stream",
     "text": [
      "D:/MLdata/18-01-09d-Exp/Extract Data/ML_block1_Exp367.mat\r",
      "D:/MLdata/18-01-09d-Exp/Extract Data/ML_block1_Exp368.mat\r"
     ]
    },
    {
     "name": "stderr",
     "output_type": "stream",
     "text": [
      "C:\\Users\\Nicholas\\Documents\\GitHub\\AM216Final2019\\aging\\io.py:166: UserWarning: File ML_block1_Exp368.mat skipped due to repeated shear 34.9.\n",
      "  warnings.warn(\"File {} skipped due to repeated shear {}.\".format(file, temp_shear))\n"
     ]
    },
    {
     "name": "stdout",
     "output_type": "stream",
     "text": [
      "D:/MLdata/18-01-09d-Exp/Extract Data/ML_block1_Exp369.mat\r"
     ]
    },
    {
     "name": "stderr",
     "output_type": "stream",
     "text": [
      "C:\\Users\\Nicholas\\Documents\\GitHub\\AM216Final2019\\aging\\io.py:166: UserWarning: File ML_block1_Exp369.mat skipped due to repeated shear 14.8.\n",
      "  warnings.warn(\"File {} skipped due to repeated shear {}.\".format(file, temp_shear))\n"
     ]
    },
    {
     "name": "stdout",
     "output_type": "stream",
     "text": [
      "D:/MLdata/18-01-09d-Exp/Extract Data/ML_block1_Exp371.mat\r"
     ]
    },
    {
     "name": "stderr",
     "output_type": "stream",
     "text": [
      "C:\\Users\\Nicholas\\Documents\\GitHub\\AM216Final2019\\aging\\io.py:166: UserWarning: File ML_block1_Exp371.mat skipped due to repeated shear 20.0.\n",
      "  warnings.warn(\"File {} skipped due to repeated shear {}.\".format(file, temp_shear))\n"
     ]
    },
    {
     "name": "stdout",
     "output_type": "stream",
     "text": [
      "D:/MLdata/18-01-09d-Exp/Extract Data/ML_block1_Exp373.mat\r"
     ]
    },
    {
     "name": "stderr",
     "output_type": "stream",
     "text": [
      "C:\\Users\\Nicholas\\Documents\\GitHub\\AM216Final2019\\aging\\io.py:166: UserWarning: File ML_block1_Exp373.mat skipped due to repeated shear 14.8.\n",
      "  warnings.warn(\"File {} skipped due to repeated shear {}.\".format(file, temp_shear))\n"
     ]
    },
    {
     "name": "stdout",
     "output_type": "stream",
     "text": [
      "D:/MLdata/18-01-09d-Exp/Extract Data/ML_block1_Exp375.mat\r"
     ]
    },
    {
     "name": "stderr",
     "output_type": "stream",
     "text": [
      "C:\\Users\\Nicholas\\Documents\\GitHub\\AM216Final2019\\aging\\io.py:166: UserWarning: File ML_block1_Exp375.mat skipped due to repeated shear 9.8.\n",
      "  warnings.warn(\"File {} skipped due to repeated shear {}.\".format(file, temp_shear))\n"
     ]
    },
    {
     "name": "stdout",
     "output_type": "stream",
     "text": [
      "D:/MLdata/18-01-09d-Exp/Extract Data/ML_block1_Exp377.mat\r"
     ]
    },
    {
     "name": "stderr",
     "output_type": "stream",
     "text": [
      "C:\\Users\\Nicholas\\Documents\\GitHub\\AM216Final2019\\aging\\io.py:166: UserWarning: File ML_block1_Exp377.mat skipped due to repeated shear 29.9.\n",
      "  warnings.warn(\"File {} skipped due to repeated shear {}.\".format(file, temp_shear))\n"
     ]
    },
    {
     "name": "stdout",
     "output_type": "stream",
     "text": [
      "D:/MLdata/18-01-09d-Exp/Extract Data/ML_block1_Exp379.mat\r"
     ]
    },
    {
     "name": "stderr",
     "output_type": "stream",
     "text": [
      "C:\\Users\\Nicholas\\Documents\\GitHub\\AM216Final2019\\aging\\io.py:166: UserWarning: File ML_block1_Exp379.mat skipped due to repeated shear 39.9.\n",
      "  warnings.warn(\"File {} skipped due to repeated shear {}.\".format(file, temp_shear))\n"
     ]
    },
    {
     "name": "stdout",
     "output_type": "stream",
     "text": [
      "D:/MLdata/18-01-09d-Exp/Extract Data/ML_block1_Exp380.mat\r"
     ]
    },
    {
     "name": "stderr",
     "output_type": "stream",
     "text": [
      "C:\\Users\\Nicholas\\Documents\\GitHub\\AM216Final2019\\aging\\io.py:166: UserWarning: File ML_block1_Exp380.mat skipped due to repeated shear 30.0.\n",
      "  warnings.warn(\"File {} skipped due to repeated shear {}.\".format(file, temp_shear))\n"
     ]
    },
    {
     "name": "stdout",
     "output_type": "stream",
     "text": [
      "D:/MLdata/18-01-09d-Exp/Extract Data/ML_block1_Exp387.mat\r"
     ]
    },
    {
     "name": "stderr",
     "output_type": "stream",
     "text": [
      "C:\\Users\\Nicholas\\Documents\\GitHub\\AM216Final2019\\aging\\io.py:166: UserWarning: File ML_block1_Exp387.mat skipped due to repeated shear 15.1.\n",
      "  warnings.warn(\"File {} skipped due to repeated shear {}.\".format(file, temp_shear))\n"
     ]
    },
    {
     "name": "stdout",
     "output_type": "stream",
     "text": [
      "D:/MLdata/18-01-09d-Exp/Extract Data/ML_block1_Exp388.mat\r"
     ]
    },
    {
     "name": "stderr",
     "output_type": "stream",
     "text": [
      "C:\\Users\\Nicholas\\Documents\\GitHub\\AM216Final2019\\aging\\io.py:166: UserWarning: File ML_block1_Exp388.mat skipped due to repeated shear 35.1.\n",
      "  warnings.warn(\"File {} skipped due to repeated shear {}.\".format(file, temp_shear))\n"
     ]
    },
    {
     "name": "stdout",
     "output_type": "stream",
     "text": [
      "D:/MLdata/18-01-09d-Exp/Extract Data/ML_block1_Exp389.mat\r"
     ]
    },
    {
     "name": "stderr",
     "output_type": "stream",
     "text": [
      "C:\\Users\\Nicholas\\Documents\\GitHub\\AM216Final2019\\aging\\io.py:166: UserWarning: File ML_block1_Exp389.mat skipped due to repeated shear 14.9.\n",
      "  warnings.warn(\"File {} skipped due to repeated shear {}.\".format(file, temp_shear))\n"
     ]
    },
    {
     "name": "stdout",
     "output_type": "stream",
     "text": [
      "D:/MLdata/18-01-09d-Exp/Extract Data/ML_block1_Exp390.mat\r"
     ]
    },
    {
     "name": "stderr",
     "output_type": "stream",
     "text": [
      "C:\\Users\\Nicholas\\Documents\\GitHub\\AM216Final2019\\aging\\io.py:166: UserWarning: File ML_block1_Exp390.mat skipped due to repeated shear 0.0.\n",
      "  warnings.warn(\"File {} skipped due to repeated shear {}.\".format(file, temp_shear))\n"
     ]
    },
    {
     "name": "stdout",
     "output_type": "stream",
     "text": [
      "D:/MLdata/18-01-09d-Exp/Extract Data/ML_block1_Exp392.mat\r"
     ]
    },
    {
     "name": "stderr",
     "output_type": "stream",
     "text": [
      "C:\\Users\\Nicholas\\Documents\\GitHub\\AM216Final2019\\aging\\io.py:166: UserWarning: File ML_block1_Exp392.mat skipped due to repeated shear 40.1.\n",
      "  warnings.warn(\"File {} skipped due to repeated shear {}.\".format(file, temp_shear))\n"
     ]
    },
    {
     "name": "stdout",
     "output_type": "stream",
     "text": [
      "D:/MLdata/18-01-09d-Exp/Extract Data/ML_block1_Exp394.mat\r"
     ]
    },
    {
     "name": "stderr",
     "output_type": "stream",
     "text": [
      "C:\\Users\\Nicholas\\Documents\\GitHub\\AM216Final2019\\aging\\io.py:166: UserWarning: File ML_block1_Exp394.mat skipped due to repeated shear 19.8.\n",
      "  warnings.warn(\"File {} skipped due to repeated shear {}.\".format(file, temp_shear))\n"
     ]
    },
    {
     "name": "stdout",
     "output_type": "stream",
     "text": [
      "D:/MLdata/18-01-09d-Exp/Extract Data/ML_block1_Exp395.mat\r"
     ]
    },
    {
     "name": "stderr",
     "output_type": "stream",
     "text": [
      "C:\\Users\\Nicholas\\Documents\\GitHub\\AM216Final2019\\aging\\io.py:166: UserWarning: File ML_block1_Exp395.mat skipped due to repeated shear 29.8.\n",
      "  warnings.warn(\"File {} skipped due to repeated shear {}.\".format(file, temp_shear))\n"
     ]
    },
    {
     "name": "stdout",
     "output_type": "stream",
     "text": [
      "D:/MLdata/18-01-09d-Exp/Extract Data/ML_block1_Exp398.mat\r"
     ]
    },
    {
     "name": "stderr",
     "output_type": "stream",
     "text": [
      "C:\\Users\\Nicholas\\Documents\\GitHub\\AM216Final2019\\aging\\io.py:166: UserWarning: File ML_block1_Exp398.mat skipped due to repeated shear 39.8.\n",
      "  warnings.warn(\"File {} skipped due to repeated shear {}.\".format(file, temp_shear))\n"
     ]
    },
    {
     "name": "stdout",
     "output_type": "stream",
     "text": [
      "D:/MLdata/18-01-09d-Exp/Extract Data/ML_block1_Exp402.mat\r"
     ]
    },
    {
     "name": "stderr",
     "output_type": "stream",
     "text": [
      "C:\\Users\\Nicholas\\Documents\\GitHub\\AM216Final2019\\aging\\io.py:166: UserWarning: File ML_block1_Exp402.mat skipped due to repeated shear 25.1.\n",
      "  warnings.warn(\"File {} skipped due to repeated shear {}.\".format(file, temp_shear))\n"
     ]
    },
    {
     "name": "stdout",
     "output_type": "stream",
     "text": [
      "D:/MLdata/18-01-09d-Exp/Extract Data/ML_block1_Exp403.mat\r"
     ]
    },
    {
     "name": "stderr",
     "output_type": "stream",
     "text": [
      "C:\\Users\\Nicholas\\Documents\\GitHub\\AM216Final2019\\aging\\io.py:166: UserWarning: File ML_block1_Exp403.mat skipped due to repeated shear 0.0.\n",
      "  warnings.warn(\"File {} skipped due to repeated shear {}.\".format(file, temp_shear))\n"
     ]
    },
    {
     "name": "stdout",
     "output_type": "stream",
     "text": [
      "D:/MLdata/18-01-09d-Exp/Extract Data/ML_block1_Exp406.mat\r"
     ]
    },
    {
     "name": "stderr",
     "output_type": "stream",
     "text": [
      "C:\\Users\\Nicholas\\Documents\\GitHub\\AM216Final2019\\aging\\io.py:166: UserWarning: File ML_block1_Exp406.mat skipped due to repeated shear 20.0.\n",
      "  warnings.warn(\"File {} skipped due to repeated shear {}.\".format(file, temp_shear))\n",
      "C:\\Users\\Nicholas\\Documents\\GitHub\\AM216Final2019\\aging\\io.py:166: UserWarning: File ML_block1_Exp408.mat skipped due to repeated shear 15.2.\n",
      "  warnings.warn(\"File {} skipped due to repeated shear {}.\".format(file, temp_shear))\n"
     ]
    },
    {
     "name": "stdout",
     "output_type": "stream",
     "text": [
      "D:/MLdata/18-01-09d-Exp/Extract Data/ML_block1_Exp408.mat\r",
      "D:/MLdata/18-01-09d-Exp/Extract Data/ML_block1_Exp410.mat\r"
     ]
    },
    {
     "name": "stderr",
     "output_type": "stream",
     "text": [
      "C:\\Users\\Nicholas\\Documents\\GitHub\\AM216Final2019\\aging\\io.py:166: UserWarning: File ML_block1_Exp410.mat skipped due to repeated shear 25.0.\n",
      "  warnings.warn(\"File {} skipped due to repeated shear {}.\".format(file, temp_shear))\n"
     ]
    },
    {
     "name": "stdout",
     "output_type": "stream",
     "text": [
      "D:/MLdata/18-01-09d-Exp/Extract Data/ML_block1_Exp412.mat\r"
     ]
    },
    {
     "name": "stderr",
     "output_type": "stream",
     "text": [
      "C:\\Users\\Nicholas\\Documents\\GitHub\\AM216Final2019\\aging\\io.py:166: UserWarning: File ML_block1_Exp412.mat skipped due to repeated shear 40.1.\n",
      "  warnings.warn(\"File {} skipped due to repeated shear {}.\".format(file, temp_shear))\n"
     ]
    },
    {
     "name": "stdout",
     "output_type": "stream",
     "text": [
      "D:/MLdata/18-01-09d-Exp/Extract Data/ML_block1_Exp416.mat\r"
     ]
    },
    {
     "name": "stderr",
     "output_type": "stream",
     "text": [
      "C:\\Users\\Nicholas\\Documents\\GitHub\\AM216Final2019\\aging\\io.py:166: UserWarning: File ML_block1_Exp416.mat skipped due to repeated shear 40.2.\n",
      "  warnings.warn(\"File {} skipped due to repeated shear {}.\".format(file, temp_shear))\n"
     ]
    },
    {
     "name": "stdout",
     "output_type": "stream",
     "text": [
      "D:/MLdata/18-01-09d-Exp/Extract Data/ML_block1_Exp420.mat\r"
     ]
    },
    {
     "name": "stderr",
     "output_type": "stream",
     "text": [
      "C:\\Users\\Nicholas\\Documents\\GitHub\\AM216Final2019\\aging\\io.py:166: UserWarning: File ML_block1_Exp420.mat skipped due to repeated shear 25.2.\n",
      "  warnings.warn(\"File {} skipped due to repeated shear {}.\".format(file, temp_shear))\n"
     ]
    },
    {
     "name": "stdout",
     "output_type": "stream",
     "text": [
      "D:/MLdata/18-01-09d-Exp/Extract Data/ML_block1_Exp423.mat\r"
     ]
    },
    {
     "name": "stderr",
     "output_type": "stream",
     "text": [
      "C:\\Users\\Nicholas\\Documents\\GitHub\\AM216Final2019\\aging\\io.py:166: UserWarning: File ML_block1_Exp423.mat skipped due to repeated shear 35.1.\n",
      "  warnings.warn(\"File {} skipped due to repeated shear {}.\".format(file, temp_shear))\n"
     ]
    },
    {
     "name": "stdout",
     "output_type": "stream",
     "text": [
      "D:/MLdata/18-01-09d-Exp/Extract Data/ML_block1_Exp425.mat\r"
     ]
    },
    {
     "name": "stderr",
     "output_type": "stream",
     "text": [
      "C:\\Users\\Nicholas\\Documents\\GitHub\\AM216Final2019\\aging\\io.py:166: UserWarning: File ML_block1_Exp425.mat skipped due to repeated shear 19.8.\n",
      "  warnings.warn(\"File {} skipped due to repeated shear {}.\".format(file, temp_shear))\n"
     ]
    },
    {
     "name": "stdout",
     "output_type": "stream",
     "text": [
      "D:/MLdata/18-01-09d-Exp/Extract Data/ML_block1_Exp427.mat\r"
     ]
    },
    {
     "name": "stderr",
     "output_type": "stream",
     "text": [
      "C:\\Users\\Nicholas\\Documents\\GitHub\\AM216Final2019\\aging\\io.py:166: UserWarning: File ML_block1_Exp427.mat skipped due to repeated shear 0.0.\n",
      "  warnings.warn(\"File {} skipped due to repeated shear {}.\".format(file, temp_shear))\n",
      "C:\\Users\\Nicholas\\Documents\\GitHub\\AM216Final2019\\aging\\io.py:166: UserWarning: File ML_block1_Exp428.mat skipped due to repeated shear 29.8.\n",
      "  warnings.warn(\"File {} skipped due to repeated shear {}.\".format(file, temp_shear))\n"
     ]
    },
    {
     "name": "stdout",
     "output_type": "stream",
     "text": [
      "D:/MLdata/18-01-09d-Exp/Extract Data/ML_block1_Exp431.mat\r"
     ]
    },
    {
     "name": "stderr",
     "output_type": "stream",
     "text": [
      "C:\\Users\\Nicholas\\Documents\\GitHub\\AM216Final2019\\aging\\io.py:166: UserWarning: File ML_block1_Exp431.mat skipped due to repeated shear 40.0.\n",
      "  warnings.warn(\"File {} skipped due to repeated shear {}.\".format(file, temp_shear))\n"
     ]
    },
    {
     "name": "stdout",
     "output_type": "stream",
     "text": [
      "D:/MLdata/18-01-09d-Exp/Extract Data/ML_block1_Exp432.mat\r"
     ]
    },
    {
     "name": "stderr",
     "output_type": "stream",
     "text": [
      "C:\\Users\\Nicholas\\Documents\\GitHub\\AM216Final2019\\aging\\io.py:166: UserWarning: File ML_block1_Exp432.mat skipped due to repeated shear 10.1.\n",
      "  warnings.warn(\"File {} skipped due to repeated shear {}.\".format(file, temp_shear))\n"
     ]
    },
    {
     "name": "stdout",
     "output_type": "stream",
     "text": [
      "D:/MLdata/18-01-09d-Exp/Extract Data/ML_block1_Exp435.mat\r"
     ]
    },
    {
     "name": "stderr",
     "output_type": "stream",
     "text": [
      "C:\\Users\\Nicholas\\Documents\\GitHub\\AM216Final2019\\aging\\io.py:166: UserWarning: File ML_block1_Exp435.mat skipped due to repeated shear 25.2.\n",
      "  warnings.warn(\"File {} skipped due to repeated shear {}.\".format(file, temp_shear))\n"
     ]
    },
    {
     "name": "stdout",
     "output_type": "stream",
     "text": [
      "D:/MLdata/18-01-09d-Exp/Extract Data/ML_block1_Exp436.mat\r"
     ]
    },
    {
     "name": "stderr",
     "output_type": "stream",
     "text": [
      "C:\\Users\\Nicholas\\Documents\\GitHub\\AM216Final2019\\aging\\io.py:166: UserWarning: File ML_block1_Exp436.mat skipped due to repeated shear 35.0.\n",
      "  warnings.warn(\"File {} skipped due to repeated shear {}.\".format(file, temp_shear))\n"
     ]
    },
    {
     "name": "stdout",
     "output_type": "stream",
     "text": [
      "D:/MLdata/18-01-09d-Exp/Extract Data/ML_block1_Exp438.mat\r"
     ]
    },
    {
     "name": "stderr",
     "output_type": "stream",
     "text": [
      "C:\\Users\\Nicholas\\Documents\\GitHub\\AM216Final2019\\aging\\io.py:166: UserWarning: File ML_block1_Exp438.mat skipped due to repeated shear 15.0.\n",
      "  warnings.warn(\"File {} skipped due to repeated shear {}.\".format(file, temp_shear))\n"
     ]
    },
    {
     "name": "stdout",
     "output_type": "stream",
     "text": [
      "D:/MLdata/18-01-09d-Exp/Extract Data/ML_block1_Exp439.mat\r"
     ]
    },
    {
     "name": "stderr",
     "output_type": "stream",
     "text": [
      "C:\\Users\\Nicholas\\Documents\\GitHub\\AM216Final2019\\aging\\io.py:166: UserWarning: File ML_block1_Exp439.mat skipped due to repeated shear 40.2.\n",
      "  warnings.warn(\"File {} skipped due to repeated shear {}.\".format(file, temp_shear))\n"
     ]
    },
    {
     "name": "stdout",
     "output_type": "stream",
     "text": [
      "D:/MLdata/18-01-09d-Exp/Extract Data/ML_block1_Exp440.mat\r"
     ]
    },
    {
     "name": "stderr",
     "output_type": "stream",
     "text": [
      "C:\\Users\\Nicholas\\Documents\\GitHub\\AM216Final2019\\aging\\io.py:166: UserWarning: File ML_block1_Exp440.mat skipped due to repeated shear 15.2.\n",
      "  warnings.warn(\"File {} skipped due to repeated shear {}.\".format(file, temp_shear))\n"
     ]
    },
    {
     "name": "stdout",
     "output_type": "stream",
     "text": [
      "D:/MLdata/18-01-09d-Exp/Extract Data/ML_block1_Exp443.mat\r"
     ]
    },
    {
     "name": "stderr",
     "output_type": "stream",
     "text": [
      "C:\\Users\\Nicholas\\Documents\\GitHub\\AM216Final2019\\aging\\io.py:166: UserWarning: File ML_block1_Exp443.mat skipped due to repeated shear 20.2.\n",
      "  warnings.warn(\"File {} skipped due to repeated shear {}.\".format(file, temp_shear))\n"
     ]
    },
    {
     "name": "stdout",
     "output_type": "stream",
     "text": [
      "D:/MLdata/18-01-09d-Exp/Extract Data/ML_block1_Exp445.mat\r"
     ]
    },
    {
     "name": "stderr",
     "output_type": "stream",
     "text": [
      "C:\\Users\\Nicholas\\Documents\\GitHub\\AM216Final2019\\aging\\io.py:166: UserWarning: File ML_block1_Exp445.mat skipped due to repeated shear 35.1.\n",
      "  warnings.warn(\"File {} skipped due to repeated shear {}.\".format(file, temp_shear))\n"
     ]
    },
    {
     "name": "stdout",
     "output_type": "stream",
     "text": [
      "D:/MLdata/18-01-09d-Exp/Extract Data/ML_block1_Exp446.mat\r"
     ]
    },
    {
     "name": "stderr",
     "output_type": "stream",
     "text": [
      "C:\\Users\\Nicholas\\Documents\\GitHub\\AM216Final2019\\aging\\io.py:166: UserWarning: File ML_block1_Exp446.mat skipped due to repeated shear 0.0.\n",
      "  warnings.warn(\"File {} skipped due to repeated shear {}.\".format(file, temp_shear))\n"
     ]
    },
    {
     "name": "stdout",
     "output_type": "stream",
     "text": [
      "D:/MLdata/18-01-09d-Exp/Extract Data/ML_block1_Exp447.mat\r"
     ]
    },
    {
     "name": "stderr",
     "output_type": "stream",
     "text": [
      "C:\\Users\\Nicholas\\Documents\\GitHub\\AM216Final2019\\aging\\io.py:166: UserWarning: File ML_block1_Exp447.mat skipped due to repeated shear 9.8.\n",
      "  warnings.warn(\"File {} skipped due to repeated shear {}.\".format(file, temp_shear))\n"
     ]
    },
    {
     "name": "stdout",
     "output_type": "stream",
     "text": [
      "D:/MLdata/18-01-09d-Exp/Extract Data/ML_block1_Exp448.mat\r"
     ]
    },
    {
     "name": "stderr",
     "output_type": "stream",
     "text": [
      "C:\\Users\\Nicholas\\Documents\\GitHub\\AM216Final2019\\aging\\io.py:166: UserWarning: File ML_block1_Exp448.mat skipped due to repeated shear 29.9.\n",
      "  warnings.warn(\"File {} skipped due to repeated shear {}.\".format(file, temp_shear))\n"
     ]
    },
    {
     "name": "stdout",
     "output_type": "stream",
     "text": [
      "D:/MLdata/18-01-09d-Exp/Extract Data/ML_block1_Exp449.mat\r"
     ]
    },
    {
     "name": "stderr",
     "output_type": "stream",
     "text": [
      "C:\\Users\\Nicholas\\Documents\\GitHub\\AM216Final2019\\aging\\io.py:166: UserWarning: File ML_block1_Exp449.mat skipped due to repeated shear 14.8.\n",
      "  warnings.warn(\"File {} skipped due to repeated shear {}.\".format(file, temp_shear))\n"
     ]
    },
    {
     "name": "stdout",
     "output_type": "stream",
     "text": [
      "D:/MLdata/18-01-09d-Exp/Extract Data/ML_block1_Exp451.mat\r"
     ]
    },
    {
     "name": "stderr",
     "output_type": "stream",
     "text": [
      "C:\\Users\\Nicholas\\Documents\\GitHub\\AM216Final2019\\aging\\io.py:166: UserWarning: File ML_block1_Exp451.mat skipped due to repeated shear 5.1.\n",
      "  warnings.warn(\"File {} skipped due to repeated shear {}.\".format(file, temp_shear))\n"
     ]
    },
    {
     "name": "stdout",
     "output_type": "stream",
     "text": [
      "D:/MLdata/18-01-09d-Exp/Extract Data/ML_block1_Exp454.mat\r"
     ]
    },
    {
     "name": "stderr",
     "output_type": "stream",
     "text": [
      "C:\\Users\\Nicholas\\Documents\\GitHub\\AM216Final2019\\aging\\io.py:166: UserWarning: File ML_block1_Exp454.mat skipped due to repeated shear 20.2.\n",
      "  warnings.warn(\"File {} skipped due to repeated shear {}.\".format(file, temp_shear))\n"
     ]
    },
    {
     "name": "stdout",
     "output_type": "stream",
     "text": [
      "D:/MLdata/18-01-09d-Exp/Extract Data/ML_block1_Exp457.mat\r"
     ]
    },
    {
     "name": "stderr",
     "output_type": "stream",
     "text": [
      "C:\\Users\\Nicholas\\Documents\\GitHub\\AM216Final2019\\aging\\io.py:166: UserWarning: File ML_block1_Exp457.mat skipped due to repeated shear 25.2.\n",
      "  warnings.warn(\"File {} skipped due to repeated shear {}.\".format(file, temp_shear))\n"
     ]
    },
    {
     "name": "stdout",
     "output_type": "stream",
     "text": [
      "D:/MLdata/18-01-09d-Exp/Extract Data/ML_block1_Exp458.mat\r"
     ]
    },
    {
     "name": "stderr",
     "output_type": "stream",
     "text": [
      "C:\\Users\\Nicholas\\Documents\\GitHub\\AM216Final2019\\aging\\io.py:166: UserWarning: File ML_block1_Exp458.mat skipped due to repeated shear 20.2.\n",
      "  warnings.warn(\"File {} skipped due to repeated shear {}.\".format(file, temp_shear))\n"
     ]
    },
    {
     "name": "stdout",
     "output_type": "stream",
     "text": [
      "D:/MLdata/18-01-09d-Exp/Extract Data/ML_block1_Exp459.mat\r"
     ]
    },
    {
     "name": "stderr",
     "output_type": "stream",
     "text": [
      "C:\\Users\\Nicholas\\Documents\\GitHub\\AM216Final2019\\aging\\io.py:166: UserWarning: File ML_block1_Exp459.mat skipped due to repeated shear 29.8.\n",
      "  warnings.warn(\"File {} skipped due to repeated shear {}.\".format(file, temp_shear))\n"
     ]
    },
    {
     "name": "stdout",
     "output_type": "stream",
     "text": [
      "D:/MLdata/18-01-09d-Exp/Extract Data/ML_block1_Exp462.mat\r"
     ]
    },
    {
     "name": "stderr",
     "output_type": "stream",
     "text": [
      "C:\\Users\\Nicholas\\Documents\\GitHub\\AM216Final2019\\aging\\io.py:166: UserWarning: File ML_block1_Exp462.mat skipped due to repeated shear 34.9.\n",
      "  warnings.warn(\"File {} skipped due to repeated shear {}.\".format(file, temp_shear))\n"
     ]
    },
    {
     "name": "stdout",
     "output_type": "stream",
     "text": [
      "D:/MLdata/18-01-09d-Exp/Extract Data/ML_block1_Exp463.mat\r"
     ]
    },
    {
     "name": "stderr",
     "output_type": "stream",
     "text": [
      "C:\\Users\\Nicholas\\Documents\\GitHub\\AM216Final2019\\aging\\io.py:166: UserWarning: File ML_block1_Exp463.mat skipped due to repeated shear 24.8.\n",
      "  warnings.warn(\"File {} skipped due to repeated shear {}.\".format(file, temp_shear))\n"
     ]
    },
    {
     "name": "stdout",
     "output_type": "stream",
     "text": [
      "D:/MLdata/18-01-09d-Exp/Extract Data/ML_block1_Exp465.mat\r"
     ]
    },
    {
     "name": "stderr",
     "output_type": "stream",
     "text": [
      "C:\\Users\\Nicholas\\Documents\\GitHub\\AM216Final2019\\aging\\io.py:166: UserWarning: File ML_block1_Exp465.mat skipped due to repeated shear 14.8.\n",
      "  warnings.warn(\"File {} skipped due to repeated shear {}.\".format(file, temp_shear))\n",
      "C:\\Users\\Nicholas\\Documents\\GitHub\\AM216Final2019\\aging\\io.py:166: UserWarning: File ML_block1_Exp466.mat skipped due to repeated shear 30.2.\n",
      "  warnings.warn(\"File {} skipped due to repeated shear {}.\".format(file, temp_shear))\n"
     ]
    },
    {
     "name": "stdout",
     "output_type": "stream",
     "text": [
      "D:/MLdata/18-01-09d-Exp/Extract Data/ML_block1_Exp466.mat\r",
      "D:/MLdata/18-01-09d-Exp/Extract Data/ML_block1_Exp467.mat\r"
     ]
    },
    {
     "name": "stderr",
     "output_type": "stream",
     "text": [
      "C:\\Users\\Nicholas\\Documents\\GitHub\\AM216Final2019\\aging\\io.py:166: UserWarning: File ML_block1_Exp467.mat skipped due to repeated shear 15.0.\n",
      "  warnings.warn(\"File {} skipped due to repeated shear {}.\".format(file, temp_shear))\n"
     ]
    },
    {
     "name": "stdout",
     "output_type": "stream",
     "text": [
      "D:/MLdata/18-01-09d-Exp/Extract Data/ML_block1_Exp468.mat\r"
     ]
    },
    {
     "name": "stderr",
     "output_type": "stream",
     "text": [
      "C:\\Users\\Nicholas\\Documents\\GitHub\\AM216Final2019\\aging\\io.py:166: UserWarning: File ML_block1_Exp468.mat skipped due to repeated shear 14.9.\n",
      "  warnings.warn(\"File {} skipped due to repeated shear {}.\".format(file, temp_shear))\n"
     ]
    },
    {
     "name": "stdout",
     "output_type": "stream",
     "text": [
      "D:/MLdata/18-01-09d-Exp/Extract Data/ML_block1_Exp470.mat\r"
     ]
    },
    {
     "name": "stderr",
     "output_type": "stream",
     "text": [
      "C:\\Users\\Nicholas\\Documents\\GitHub\\AM216Final2019\\aging\\io.py:166: UserWarning: File ML_block1_Exp470.mat skipped due to repeated shear 9.9.\n",
      "  warnings.warn(\"File {} skipped due to repeated shear {}.\".format(file, temp_shear))\n"
     ]
    },
    {
     "name": "stdout",
     "output_type": "stream",
     "text": [
      "D:/MLdata/18-01-09d-Exp/Extract Data/ML_block1_Exp472.mat\r"
     ]
    },
    {
     "name": "stderr",
     "output_type": "stream",
     "text": [
      "C:\\Users\\Nicholas\\Documents\\GitHub\\AM216Final2019\\aging\\io.py:166: UserWarning: File ML_block1_Exp472.mat skipped due to repeated shear 25.0.\n",
      "  warnings.warn(\"File {} skipped due to repeated shear {}.\".format(file, temp_shear))\n"
     ]
    },
    {
     "name": "stdout",
     "output_type": "stream",
     "text": [
      "D:/MLdata/18-01-09d-Exp/Extract Data/ML_block1_Exp473.mat\r"
     ]
    },
    {
     "name": "stderr",
     "output_type": "stream",
     "text": [
      "C:\\Users\\Nicholas\\Documents\\GitHub\\AM216Final2019\\aging\\io.py:166: UserWarning: File ML_block1_Exp473.mat skipped due to repeated shear 0.0.\n",
      "  warnings.warn(\"File {} skipped due to repeated shear {}.\".format(file, temp_shear))\n"
     ]
    },
    {
     "name": "stdout",
     "output_type": "stream",
     "text": [
      "D:/MLdata/18-01-09d-Exp/Extract Data/ML_block1_Exp474.mat\r"
     ]
    },
    {
     "name": "stderr",
     "output_type": "stream",
     "text": [
      "C:\\Users\\Nicholas\\Documents\\GitHub\\AM216Final2019\\aging\\io.py:166: UserWarning: File ML_block1_Exp474.mat skipped due to repeated shear 29.9.\n",
      "  warnings.warn(\"File {} skipped due to repeated shear {}.\".format(file, temp_shear))\n"
     ]
    },
    {
     "name": "stdout",
     "output_type": "stream",
     "text": [
      "D:/MLdata/18-01-09d-Exp/Extract Data/ML_block1_Exp478.mat\r"
     ]
    },
    {
     "name": "stderr",
     "output_type": "stream",
     "text": [
      "C:\\Users\\Nicholas\\Documents\\GitHub\\AM216Final2019\\aging\\io.py:166: UserWarning: File ML_block1_Exp478.mat skipped due to repeated shear 10.1.\n",
      "  warnings.warn(\"File {} skipped due to repeated shear {}.\".format(file, temp_shear))\n"
     ]
    },
    {
     "name": "stdout",
     "output_type": "stream",
     "text": [
      "D:/MLdata/18-01-09d-Exp/Extract Data/ML_block1_Exp479.mat\r"
     ]
    },
    {
     "name": "stderr",
     "output_type": "stream",
     "text": [
      "C:\\Users\\Nicholas\\Documents\\GitHub\\AM216Final2019\\aging\\io.py:166: UserWarning: File ML_block1_Exp479.mat skipped due to repeated shear 19.9.\n",
      "  warnings.warn(\"File {} skipped due to repeated shear {}.\".format(file, temp_shear))\n"
     ]
    },
    {
     "name": "stdout",
     "output_type": "stream",
     "text": [
      "D:/MLdata/18-01-09d-Exp/Extract Data/ML_block1_Exp483.mat\r"
     ]
    },
    {
     "name": "stderr",
     "output_type": "stream",
     "text": [
      "C:\\Users\\Nicholas\\Documents\\GitHub\\AM216Final2019\\aging\\io.py:166: UserWarning: File ML_block1_Exp483.mat skipped due to repeated shear 30.2.\n",
      "  warnings.warn(\"File {} skipped due to repeated shear {}.\".format(file, temp_shear))\n"
     ]
    },
    {
     "name": "stdout",
     "output_type": "stream",
     "text": [
      "D:/MLdata/18-01-09d-Exp/Extract Data/ML_block1_Exp484.mat\r"
     ]
    },
    {
     "name": "stderr",
     "output_type": "stream",
     "text": [
      "C:\\Users\\Nicholas\\Documents\\GitHub\\AM216Final2019\\aging\\io.py:166: UserWarning: File ML_block1_Exp484.mat skipped due to repeated shear 25.2.\n",
      "  warnings.warn(\"File {} skipped due to repeated shear {}.\".format(file, temp_shear))\n"
     ]
    },
    {
     "name": "stdout",
     "output_type": "stream",
     "text": [
      "D:/MLdata/18-01-09d-Exp/Extract Data/ML_block1_Exp487.mat\r"
     ]
    },
    {
     "name": "stderr",
     "output_type": "stream",
     "text": [
      "C:\\Users\\Nicholas\\Documents\\GitHub\\AM216Final2019\\aging\\io.py:166: UserWarning: File ML_block1_Exp487.mat skipped due to repeated shear 19.9.\n",
      "  warnings.warn(\"File {} skipped due to repeated shear {}.\".format(file, temp_shear))\n"
     ]
    },
    {
     "name": "stdout",
     "output_type": "stream",
     "text": [
      "D:/MLdata/18-01-09d-Exp/Extract Data/ML_block1_Exp488.mat\r"
     ]
    },
    {
     "name": "stderr",
     "output_type": "stream",
     "text": [
      "C:\\Users\\Nicholas\\Documents\\GitHub\\AM216Final2019\\aging\\io.py:166: UserWarning: File ML_block1_Exp488.mat skipped due to repeated shear 40.2.\n",
      "  warnings.warn(\"File {} skipped due to repeated shear {}.\".format(file, temp_shear))\n"
     ]
    },
    {
     "name": "stdout",
     "output_type": "stream",
     "text": [
      "D:/MLdata/18-01-09d-Exp/Extract Data/ML_block1_Exp490.mat\r"
     ]
    },
    {
     "name": "stderr",
     "output_type": "stream",
     "text": [
      "C:\\Users\\Nicholas\\Documents\\GitHub\\AM216Final2019\\aging\\io.py:166: UserWarning: File ML_block1_Exp490.mat skipped due to repeated shear 39.9.\n",
      "  warnings.warn(\"File {} skipped due to repeated shear {}.\".format(file, temp_shear))\n"
     ]
    },
    {
     "name": "stdout",
     "output_type": "stream",
     "text": [
      "D:/MLdata/18-01-09d-Exp/Extract Data/ML_block1_Exp491.mat\r"
     ]
    },
    {
     "name": "stderr",
     "output_type": "stream",
     "text": [
      "C:\\Users\\Nicholas\\Documents\\GitHub\\AM216Final2019\\aging\\io.py:166: UserWarning: File ML_block1_Exp491.mat skipped due to repeated shear 0.0.\n",
      "  warnings.warn(\"File {} skipped due to repeated shear {}.\".format(file, temp_shear))\n"
     ]
    },
    {
     "name": "stdout",
     "output_type": "stream",
     "text": [
      "D:/MLdata/18-01-09d-Exp/Extract Data/ML_block1_Exp493.mat\r"
     ]
    },
    {
     "name": "stderr",
     "output_type": "stream",
     "text": [
      "C:\\Users\\Nicholas\\Documents\\GitHub\\AM216Final2019\\aging\\io.py:166: UserWarning: File ML_block1_Exp493.mat skipped due to repeated shear 15.0.\n",
      "  warnings.warn(\"File {} skipped due to repeated shear {}.\".format(file, temp_shear))\n"
     ]
    },
    {
     "name": "stdout",
     "output_type": "stream",
     "text": [
      "D:/MLdata/18-01-09d-Exp/Extract Data/ML_block1_Exp495.mat\r"
     ]
    },
    {
     "name": "stderr",
     "output_type": "stream",
     "text": [
      "C:\\Users\\Nicholas\\Documents\\GitHub\\AM216Final2019\\aging\\io.py:166: UserWarning: File ML_block1_Exp495.mat skipped due to repeated shear 39.9.\n",
      "  warnings.warn(\"File {} skipped due to repeated shear {}.\".format(file, temp_shear))\n"
     ]
    },
    {
     "name": "stdout",
     "output_type": "stream",
     "text": [
      "D:/MLdata/18-01-09d-Exp/Extract Data/ML_block1_Exp496.mat\r"
     ]
    },
    {
     "name": "stderr",
     "output_type": "stream",
     "text": [
      "C:\\Users\\Nicholas\\Documents\\GitHub\\AM216Final2019\\aging\\io.py:166: UserWarning: File ML_block1_Exp496.mat skipped due to repeated shear 9.8.\n",
      "  warnings.warn(\"File {} skipped due to repeated shear {}.\".format(file, temp_shear))\n"
     ]
    },
    {
     "name": "stdout",
     "output_type": "stream",
     "text": [
      "D:/MLdata/18-01-09d-Exp/Extract Data/ML_block1_Exp498.mat\r"
     ]
    },
    {
     "name": "stderr",
     "output_type": "stream",
     "text": [
      "C:\\Users\\Nicholas\\Documents\\GitHub\\AM216Final2019\\aging\\io.py:166: UserWarning: File ML_block1_Exp498.mat skipped due to repeated shear 34.8.\n",
      "  warnings.warn(\"File {} skipped due to repeated shear {}.\".format(file, temp_shear))\n"
     ]
    },
    {
     "name": "stdout",
     "output_type": "stream",
     "text": [
      "D:/MLdata/18-01-09d-Exp/Extract Data/ML_block1_Exp500.mat\r"
     ]
    },
    {
     "name": "stderr",
     "output_type": "stream",
     "text": [
      "C:\\Users\\Nicholas\\Documents\\GitHub\\AM216Final2019\\aging\\io.py:166: UserWarning: File ML_block1_Exp500.mat skipped due to repeated shear 40.1.\n",
      "  warnings.warn(\"File {} skipped due to repeated shear {}.\".format(file, temp_shear))\n"
     ]
    }
   ],
   "source": [
    "length_index, split_images, label_dic = age.data_extractor(files, \n",
    "                     folders, \n",
    "                     direc = direc, \n",
    "                     crop_size = crop_size, \n",
    "                     split_size = split_size,\n",
    "                     clip_value = clip_value,\n",
    "                     subtract = False, \n",
    "                     log_image = True, \n",
    "                     younger = 0,\n",
    "                     unique_shear = True)"
   ]
  },
  {
   "cell_type": "markdown",
   "metadata": {},
   "source": [
    "### Troubleshooting"
   ]
  },
  {
   "cell_type": "code",
   "execution_count": 6,
   "metadata": {
    "ExecuteTime": {
     "end_time": "2019-05-15T14:35:28.754185Z",
     "start_time": "2019-05-15T14:35:28.443918Z"
    },
    "scrolled": false
   },
   "outputs": [],
   "source": [
    "# age.intensity_plotter(length_index, label_dic, \n",
    "#                       split_images, image_grid_size,\n",
    "#                      normalize_to_1 = True, normalize_all = False, \n",
    "#                       log_plot = False)"
   ]
  },
  {
   "cell_type": "code",
   "execution_count": 7,
   "metadata": {
    "ExecuteTime": {
     "end_time": "2019-05-15T14:35:28.978304Z",
     "start_time": "2019-05-15T14:35:28.755987Z"
    },
    "scrolled": false
   },
   "outputs": [],
   "source": [
    "# age.time_plotter(length_index, files, label_dic, \n",
    "#                  split_images, image_grid_size, full = False)\n",
    "# # # age.difference(Fs_label, Fn_label, T_label, split_images, length_index, files, image_grid_size)"
   ]
  },
  {
   "cell_type": "markdown",
   "metadata": {},
   "source": [
    "### Assemble Data"
   ]
  },
  {
   "cell_type": "code",
   "execution_count": 15,
   "metadata": {
    "ExecuteTime": {
     "end_time": "2019-05-15T14:41:15.082532Z",
     "start_time": "2019-05-15T14:40:48.910326Z"
    }
   },
   "outputs": [
    {
     "name": "stdout",
     "output_type": "stream",
     "text": [
      "Test Index Completed...\n",
      "Training Data and Labels Completed... (1989, 750, 750) (1989, 1)\n",
      "Testing Data and Labels Completed... (498, 750, 750) (498, 1)\n",
      "Training and Testing Metadata Completed...\n"
     ]
    }
   ],
   "source": [
    "# train_data, train_labels, train_meta, test_data, test_labels, test_meta = \\\n",
    "#         age.withhold_sqr(\n",
    "#             split_images = split_images, \n",
    "#             ML_labels = ['T'],\n",
    "#             label_dic = label_dic,\n",
    "#             image_grid_size = image_grid_size, \n",
    "#             log_time = True,\n",
    "#             cols = int(np.ceil(.2*image_grid_size)))\n",
    "\n",
    "# train_data, train_labels, train_meta, test_data, test_labels, test_meta = \\\n",
    "#         age.withold_exp(\n",
    "#             split_images = split_images, \n",
    "#             ML_labels = ['T'],\n",
    "#             label_dic = label_dic,\n",
    "#             log_time = True)\n",
    "\n",
    "# train_data, train_labels, test_data, test_labels = \\\n",
    "# age.younger(train_data, train_labels, test_data, test_labels, time_cut = 5)\n",
    "\n",
    "train_data, train_labels, train_meta, test_data, test_labels, test_meta = \\\n",
    "        age.shear_assemble(\n",
    "            split_images = split_images, \n",
    "            ML_labels = ['T'],\n",
    "            label_dic = label_dic,\n",
    "            image_grid_size = image_grid_size, \n",
    "            length_index = length_index, \n",
    "            log_time = True)\n",
    "\n",
    "train_data, test_data = age.regularize(train_data, test_data)"
   ]
  },
  {
   "cell_type": "markdown",
   "metadata": {},
   "source": [
    "### Build CNN"
   ]
  },
  {
   "cell_type": "code",
   "execution_count": 46,
   "metadata": {
    "ExecuteTime": {
     "end_time": "2019-05-15T17:37:34.053530Z",
     "start_time": "2019-05-15T17:37:15.826565Z"
    }
   },
   "outputs": [],
   "source": [
    "image_size = train_data.shape[1]\n",
    "    \n",
    "# Create the base model\n",
    "# https://keras.io/applications/#inceptionv3\n",
    "base_model = tf.keras.applications.inception_v3.InceptionV3(\n",
    "                include_top=False, \n",
    "                weights='imagenet', \n",
    "                input_shape=(image_size,image_size,3))\n",
    "\n",
    "base_model.trainable = False\n",
    "    \n",
    "incep_model = tf.keras.Sequential([\n",
    "    base_model,\n",
    "    tf.keras.layers.Conv2D(16, (3, 3)),\n",
    "    tf.keras.layers.LeakyReLU(alpha=0.5),\n",
    "    tf.keras.layers.Dropout(rate = 0.3),\n",
    "    tf.keras.layers.Flatten(),\n",
    "    tf.keras.layers.Dense(32),\n",
    "    tf.keras.layers.LeakyReLU(alpha=0.5),\n",
    "    tf.keras.layers.Dropout(rate = 0.3),\n",
    "    tf.keras.layers.Dense(1),\n",
    "    tf.keras.layers.LeakyReLU(alpha=0.5)\n",
    "    ])\n",
    "\n",
    "#custom_model = tf.keras.Sequential([\n",
    "#        tf.keras.layers.Conv2D(8, kernel_size=(2, 2),\n",
    "#                       input_shape=(image_size, image_size, 1)),\n",
    "#        tf.keras.layers.LeakyReLU(alpha=0.5),\n",
    "#        tf.keras.layers.Dropout(rate = 0.3),\n",
    "#        tf.keras.layers.Conv2D(16, (3, 3)),\n",
    "#        tf.keras.layers.LeakyReLU(alpha=0.5),\n",
    "#        tf.keras.layers.Dropout(rate = 0.3),\n",
    "#        tf.keras.layers.Flatten(),\n",
    "#        tf.keras.layers.Dense(32),\n",
    "#        tf.keras.layers.LeakyReLU(alpha=0.5),\n",
    "#        tf.keras.layers.Dropout(rate = 0.3),\n",
    "#        tf.keras.layers.Dense(1),\n",
    "#        tf.keras.layers.LeakyReLU(alpha=0.5)"
   ]
  },
  {
   "cell_type": "markdown",
   "metadata": {},
   "source": [
    "### Train CNN"
   ]
  },
  {
   "cell_type": "code",
   "execution_count": null,
   "metadata": {
    "ExecuteTime": {
     "start_time": "2019-05-15T17:37:53.086Z"
    },
    "scrolled": false
   },
   "outputs": [
    {
     "name": "stdout",
     "output_type": "stream",
     "text": [
      "Train on 1989 samples, validate on 498 samples\n",
      "Epoch 1/30\n",
      "1989/1989 [==============================] - 159s 80ms/sample - loss: 0.2335 - mean_absolute_error: 1.8955 - acc: 0.0000e+00 - val_loss: 0.9310 - val_mean_absolute_error: 3.1620 - val_acc: 0.0000e+00\n",
      "Epoch 2/30\n",
      "1989/1989 [==============================] - 118s 59ms/sample - loss: 0.1494 - mean_absolute_error: 1.5127 - acc: 0.0000e+00 - val_loss: 0.7095 - val_mean_absolute_error: 2.8694 - val_acc: 0.0000e+00\n",
      "Epoch 3/30\n",
      "1989/1989 [==============================] - 127s 64ms/sample - loss: 0.1277 - mean_absolute_error: 1.4006 - acc: 0.0000e+00 - val_loss: 1.3096 - val_mean_absolute_error: 3.4798 - val_acc: 0.0000e+00\n",
      "Epoch 4/30\n",
      "1989/1989 [==============================] - 108s 54ms/sample - loss: 0.1015 - mean_absolute_error: 1.2384 - acc: 0.0000e+00 - val_loss: 1.0989 - val_mean_absolute_error: 3.3008 - val_acc: 0.0000e+00\n",
      "Epoch 5/30\n",
      "1989/1989 [==============================] - 112s 57ms/sample - loss: 0.0915 - mean_absolute_error: 1.1807 - acc: 0.0000e+00 - val_loss: 0.5542 - val_mean_absolute_error: 2.5289 - val_acc: 0.0000e+00\n",
      "Epoch 6/30\n",
      "1989/1989 [==============================] - 115s 58ms/sample - loss: 0.0884 - mean_absolute_error: 1.1517 - acc: 0.0000e+00 - val_loss: 0.6265 - val_mean_absolute_error: 2.7046 - val_acc: 0.0000e+00\n",
      "Epoch 7/30\n",
      "1989/1989 [==============================] - 114s 57ms/sample - loss: 0.0819 - mean_absolute_error: 1.1041 - acc: 0.0000e+00 - val_loss: 1.2133 - val_mean_absolute_error: 3.3938 - val_acc: 0.0000e+00\n",
      "Epoch 8/30\n",
      "1989/1989 [==============================] - 118s 59ms/sample - loss: 0.0837 - mean_absolute_error: 1.1077 - acc: 0.0000e+00 - val_loss: 0.9381 - val_mean_absolute_error: 3.1023 - val_acc: 0.0000e+00\n",
      "Epoch 9/30\n",
      "1989/1989 [==============================] - 120s 60ms/sample - loss: 0.0687 - mean_absolute_error: 1.0112 - acc: 0.0000e+00 - val_loss: 0.2432 - val_mean_absolute_error: 1.8719 - val_acc: 0.0000e+00\n",
      "Epoch 10/30\n",
      "1989/1989 [==============================] - 119s 60ms/sample - loss: 0.0645 - mean_absolute_error: 0.9825 - acc: 0.0000e+00 - val_loss: 0.4142 - val_mean_absolute_error: 2.2499 - val_acc: 0.0000e+00\n",
      "Epoch 11/30\n",
      "1989/1989 [==============================] - 117s 59ms/sample - loss: 0.0680 - mean_absolute_error: 0.9937 - acc: 0.0000e+00 - val_loss: 0.1701 - val_mean_absolute_error: 1.5824 - val_acc: 0.0000e+00\n",
      "Epoch 12/30\n",
      "1989/1989 [==============================] - 116s 58ms/sample - loss: 0.0653 - mean_absolute_error: 0.9652 - acc: 0.0000e+00 - val_loss: 0.2415 - val_mean_absolute_error: 1.7636 - val_acc: 0.0000e+00\n",
      "Epoch 13/30\n",
      "1989/1989 [==============================] - 115s 58ms/sample - loss: 0.0600 - mean_absolute_error: 0.9333 - acc: 0.0000e+00 - val_loss: 0.1746 - val_mean_absolute_error: 1.5776 - val_acc: 0.0000e+00\n",
      "Epoch 14/30\n",
      "1989/1989 [==============================] - 130s 65ms/sample - loss: 0.0647 - mean_absolute_error: 0.9727 - acc: 0.0000e+00 - val_loss: 0.1173 - val_mean_absolute_error: 1.3450 - val_acc: 0.0000e+00\n",
      "Epoch 15/30\n",
      "1989/1989 [==============================] - 108s 55ms/sample - loss: 0.0603 - mean_absolute_error: 0.9478 - acc: 0.0000e+00 - val_loss: 0.1991 - val_mean_absolute_error: 1.6353 - val_acc: 0.0000e+00\n",
      "Epoch 16/30\n",
      "1989/1989 [==============================] - 129s 65ms/sample - loss: 0.0553 - mean_absolute_error: 0.8904 - acc: 0.0000e+00 - val_loss: 0.1745 - val_mean_absolute_error: 1.5702 - val_acc: 0.0000e+00\n",
      "Epoch 17/30\n",
      "1989/1989 [==============================] - 113s 57ms/sample - loss: 0.0572 - mean_absolute_error: 0.9161 - acc: 0.0000e+00 - val_loss: 0.1179 - val_mean_absolute_error: 1.3598 - val_acc: 0.0000e+00\n",
      "Epoch 18/30\n",
      "1989/1989 [==============================] - 116s 59ms/sample - loss: 0.0563 - mean_absolute_error: 0.9018 - acc: 0.0000e+00 - val_loss: 0.1097 - val_mean_absolute_error: 1.3324 - val_acc: 0.0000e+00\n",
      "Epoch 19/30\n",
      "1989/1989 [==============================] - 129s 65ms/sample - loss: 0.0562 - mean_absolute_error: 0.9025 - acc: 0.0000e+00 - val_loss: 0.1110 - val_mean_absolute_error: 1.3294 - val_acc: 0.0000e+00\n",
      "Epoch 20/30\n",
      "1989/1989 [==============================] - 135s 68ms/sample - loss: 0.0588 - mean_absolute_error: 0.9129 - acc: 0.0000e+00 - val_loss: 0.1355 - val_mean_absolute_error: 1.4215 - val_acc: 0.0000e+00\n",
      "Epoch 21/30\n",
      "1989/1989 [==============================] - 145s 73ms/sample - loss: 0.0514 - mean_absolute_error: 0.8589 - acc: 0.0000e+00 - val_loss: 0.1194 - val_mean_absolute_error: 1.3508 - val_acc: 0.0000e+00\n",
      "Epoch 22/30\n",
      "1989/1989 [==============================] - 117s 59ms/sample - loss: 0.0477 - mean_absolute_error: 0.8342 - acc: 0.0000e+00 - val_loss: 0.2170 - val_mean_absolute_error: 1.7041 - val_acc: 0.0000e+00\n",
      "Epoch 23/30\n",
      "1989/1989 [==============================] - 116s 58ms/sample - loss: 0.0536 - mean_absolute_error: 0.8683 - acc: 0.0000e+00 - val_loss: 0.1171 - val_mean_absolute_error: 1.4036 - val_acc: 0.0000e+00\n",
      "Epoch 24/30\n",
      "1989/1989 [==============================] - 109s 55ms/sample - loss: 0.0497 - mean_absolute_error: 0.8575 - acc: 0.0000e+00 - val_loss: 0.1316 - val_mean_absolute_error: 1.4610 - val_acc: 0.0000e+00\n",
      "Epoch 25/30\n",
      "1024/1989 [==============>...............] - ETA: 34s - loss: 0.0490 - mean_absolute_error: 0.8365 - acc: 0.0000e+00"
     ]
    }
   ],
   "source": [
    "model, history = age.inception_train(\n",
    "                    train_data, \n",
    "                    train_labels, \n",
    "                    test_data, \n",
    "                    test_labels,\n",
    "                    savedir, \n",
    "                    incep_model,\n",
    "                    epochs = 30,\n",
    "                    patience = 10)\n",
    "\n",
    "# model, history = age.aion(train_data, train_labels, test_data, test_labels,\n",
    "#                     savedir, full_model)"
   ]
  },
  {
   "cell_type": "code",
   "execution_count": null,
   "metadata": {
    "ExecuteTime": {
     "start_time": "2019-05-15T17:37:54.164Z"
    }
   },
   "outputs": [],
   "source": [
    "age.hist_plotter(history, savedir + \"Incep_history\")"
   ]
  },
  {
   "cell_type": "markdown",
   "metadata": {},
   "source": [
    "### Examine Results"
   ]
  },
  {
   "cell_type": "code",
   "execution_count": null,
   "metadata": {
    "ExecuteTime": {
     "start_time": "2019-05-15T17:37:55.478Z"
    }
   },
   "outputs": [],
   "source": [
    "# loaddir = ''\n",
    "# model = load_model('my_model.h5')\n",
    "# np.load(savedir + 'length_index',length_index)\n",
    "# np.load(savedir + \"test_data\", test_data) \n",
    "# np.load(savedir + \"train_data\",train_data) \n",
    "# scipy.io.loadmat(savedir + \"test_meta\", test_meta) \n",
    "# scipy.io.loadmat(savedir + \"train_meta\", train_meta) \n",
    "# train_labels = train_meta['T']\n",
    "# test_labels = test_meta['T']"
   ]
  },
  {
   "cell_type": "code",
   "execution_count": null,
   "metadata": {
    "ExecuteTime": {
     "start_time": "2019-05-15T17:37:56.170Z"
    }
   },
   "outputs": [],
   "source": [
    "test_predic = model.predict(np.tile(\n",
    "    test_data.reshape(test_data.shape[0], \n",
    "    test_data.shape[1], \n",
    "    test_data.shape[2], \n",
    "    1), \n",
    "        3))\n",
    "train_predic = model.predict(np.tile(train_data.reshape(\n",
    "    train_data.shape[0], \n",
    "    train_data.shape[1],  \n",
    "    train_data.shape[2], \n",
    "    1),\n",
    "        3))"
   ]
  },
  {
   "cell_type": "code",
   "execution_count": null,
   "metadata": {
    "ExecuteTime": {
     "start_time": "2019-05-15T17:37:56.766Z"
    },
    "scrolled": false
   },
   "outputs": [],
   "source": [
    "train_times = train_labels.reshape(1,-1)\n",
    "train_pred_times = train_predic.reshape(1,-1)\n",
    "\n",
    "# train_shear = train_labels[:,1]\n",
    "# train_pred_shear = train_predic[:,1]\n",
    "\n",
    "test_times = test_labels.reshape(1,-1)\n",
    "test_pred_times = test_predic.reshape(1,-1)\n",
    "# test_shear = test_labels[:,1]\n",
    "# test_pred_shear = test_predic[:,1]\n",
    "\n",
    "age.data_plotter(train_times, train_pred_times, \n",
    "                 savedir + \"Incep_Age_train\" ,\n",
    "                 name = 'Single Block Diff Train',\n",
    "                 lim = 9,\n",
    "                 marker = \".\", alpha = .3)\n",
    "\n",
    "age.data_plotter(test_times, test_pred_times, \n",
    "                 savedir + \"Incep_Age_test\" ,\n",
    "                 name = 'Single Block Diff Test',\n",
    "                 lim = 9,\n",
    "                 marker = \".\", alpha = .3, color = 'k')"
   ]
  },
  {
   "cell_type": "code",
   "execution_count": null,
   "metadata": {
    "ExecuteTime": {
     "start_time": "2019-05-15T17:37:57.324Z"
    }
   },
   "outputs": [],
   "source": [
    "test_meta['T'] = np.exp(test_labels.flatten())\n",
    "train_meta['T'] = np.exp(train_labels.flatten())"
   ]
  },
  {
   "cell_type": "code",
   "execution_count": null,
   "metadata": {
    "ExecuteTime": {
     "start_time": "2019-05-15T17:37:57.879Z"
    }
   },
   "outputs": [],
   "source": [
    "import scipy.io\n",
    "np.save(savedir + 'length_index',length_index)\n",
    "np.save(savedir + \"test_data\", test_data) \n",
    "np.save(savedir + \"train_data\",train_data) \n",
    "scipy.io.savemat(savedir, test_meta) \n",
    "scipy.io.savemat(savedir, train_meta) "
   ]
  },
  {
   "cell_type": "code",
   "execution_count": null,
   "metadata": {
    "ExecuteTime": {
     "end_time": "2019-05-15T14:10:21.373159Z",
     "start_time": "2019-05-15T14:10:19.208460Z"
    },
    "scrolled": false
   },
   "outputs": [],
   "source": [
    "age.intensity_plotter(length_index, test_meta, \n",
    "                      test_data, 2,\n",
    "                     normalize_to_1 = True, normalize_all = False, \n",
    "                      log_plot = False)"
   ]
  },
  {
   "cell_type": "code",
   "execution_count": null,
   "metadata": {
    "ExecuteTime": {
     "end_time": "2019-05-15T09:08:20.022317Z",
     "start_time": "2019-05-15T08:58:19.383Z"
    }
   },
   "outputs": [],
   "source": [
    "age.intensity_plotter(length_index, test_meta, \n",
    "                      test_data, 2,\n",
    "                     normalize_to_1 = True, normalize_all = True, \n",
    "                      log_plot = False)"
   ]
  },
  {
   "cell_type": "code",
   "execution_count": null,
   "metadata": {},
   "outputs": [],
   "source": []
  }
 ],
 "metadata": {
  "kernelspec": {
   "display_name": "Python 3",
   "language": "python",
   "name": "python3"
  },
  "language_info": {
   "codemirror_mode": {
    "name": "ipython",
    "version": 3
   },
   "file_extension": ".py",
   "mimetype": "text/x-python",
   "name": "python",
   "nbconvert_exporter": "python",
   "pygments_lexer": "ipython3",
   "version": "3.6.8"
  }
 },
 "nbformat": 4,
 "nbformat_minor": 2
}
